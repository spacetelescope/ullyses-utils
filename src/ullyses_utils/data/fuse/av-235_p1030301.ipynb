{
 "cells": [
  {
   "cell_type": "markdown",
   "id": "2bf32516",
   "metadata": {},
   "source": [
    "# AV235\n",
    "\n",
    "Updating the dataset: P103030100000\n",
    "\n",
    "* LiF1 is the guide channel.\n",
    "* LiF1, SiC1, SiC2 count rates are rock solid.  \n",
    "* LiF2 count rate dips, particularly in exposures 1-4.  \n",
    "* Rescale LiF 2A to match LiF 1B, avoiding the worm.\n",
    "\n",
    "COMMENT File updated 4 August 2022<br>\n",
    "COMMENT LiF 2A scaled to match LiF 1B."
   ]
  },
  {
   "cell_type": "code",
   "execution_count": null,
   "id": "ecdce1ab",
   "metadata": {},
   "outputs": [],
   "source": [
    "%matplotlib inline\n",
    "import matplotlib\n",
    "\n",
    "import numpy as np\n",
    "\n",
    "from astropy import units as u\n",
    "from astropy.convolution import convolve, Box1DKernel\n",
    "from astropy.io import fits\n",
    "from astropy.visualization import quantity_support\n",
    "from matplotlib import pyplot as plt\n",
    "\n",
    "from specutils import Spectrum1D\n",
    "from specutils.spectra import SpectralRegion\n",
    "from specutils.manipulation import box_smooth, extract_region\n",
    "\n",
    "# Specify plot parameters.\n",
    "quantity_support()  # to put units on the axes below \n",
    "matplotlib.rcParams['figure.figsize'] = [15, 5]\n",
    "\n",
    "# Wavelength per channel (pixel) is always 0.013 A.\n",
    "WPC = 0.013\n",
    "\n",
    "# Normalize all spectra, so fluxes are of order unity.\n",
    "norm = 1E12"
   ]
  },
  {
   "cell_type": "code",
   "execution_count": null,
   "id": "d273d6c5",
   "metadata": {},
   "outputs": [],
   "source": [
    "# Function to convert FITS array into spectrum object.\n",
    "\n",
    "def make_spectrum (specdata):\n",
    "    lamb = specdata['wave'] * u.AA \n",
    "    flux = specdata['flux'] * norm * u.Unit('erg cm-2 s-1 AA-1') \n",
    "    return Spectrum1D(spectral_axis=lamb, flux=flux)"
   ]
  },
  {
   "cell_type": "code",
   "execution_count": null,
   "id": "dfc49e3b",
   "metadata": {},
   "outputs": [],
   "source": [
    "# Read header keywords from FUSE *all* file.\n",
    "\n",
    "filename = 'P103030100000all4ttagfcal.fit'\n",
    "f = fits.open(filename)\n",
    "print ('Target:  ', f[0].header['TARGNAME'])\n",
    "print ('Aperture:', f[0].header['APERTURE'])\n",
    "print ('Guider:  ', f[0].header['FESCENT'])\n",
    "print ('CHANL OBSTIME COMBMETH')\n",
    "for i in range(1,9): print (f[i].header['EXTNAME'], f[i].header['OBSTIME'], f[i].header['COMBMETH'])\n",
    "    \n",
    "# The guide channel is LiF 1."
   ]
  },
  {
   "cell_type": "code",
   "execution_count": null,
   "id": "7b30fe13",
   "metadata": {},
   "outputs": [],
   "source": [
    "# Read all eight spectra from FUSE *all* file.\n",
    "\n",
    "lif1a_data = f['1alif'].data \n",
    "lif1b_data = f['1blif'].data\n",
    "lif2b_data = f['2blif'].data\n",
    "lif2a_data = f['2alif'].data\n",
    "sic1a_data = f['1asic'].data\n",
    "sic1b_data = f['1bsic'].data\n",
    "sic2b_data = f['2bsic'].data\n",
    "sic2a_data = f['2asic'].data\n",
    "f.close() "
   ]
  },
  {
   "cell_type": "code",
   "execution_count": null,
   "id": "1bedb1a6",
   "metadata": {},
   "outputs": [],
   "source": [
    "# Convert FITS arrays into spectrum objects.\n",
    "\n",
    "lif1a = make_spectrum (lif1a_data)\n",
    "lif1b = make_spectrum (lif1b_data)\n",
    "lif2a = make_spectrum (lif2a_data)\n",
    "lif2b = make_spectrum (lif2b_data)\n",
    "sic1a = make_spectrum (sic1a_data)\n",
    "sic1b = make_spectrum (sic1b_data)\n",
    "sic2a = make_spectrum (sic2a_data)\n",
    "sic2b = make_spectrum (sic2b_data)"
   ]
  },
  {
   "cell_type": "code",
   "execution_count": null,
   "id": "a3277e6b",
   "metadata": {},
   "outputs": [],
   "source": [
    "# Smooth the spectral arrays.\n",
    "\n",
    "from specutils.manipulation import (box_smooth)\n",
    "\n",
    "lif1a_bsmooth = box_smooth(lif1a, width=15)\n",
    "lif1b_bsmooth = box_smooth(lif1b, width=15)\n",
    "lif2a_bsmooth = box_smooth(lif2a, width=15)\n",
    "lif2b_bsmooth = box_smooth(lif2b, width=15)\n",
    "sic1a_bsmooth = box_smooth(sic1a, width=15)\n",
    "sic1b_bsmooth = box_smooth(sic1b, width=15)\n",
    "sic2a_bsmooth = box_smooth(sic2a, width=15)\n",
    "sic2b_bsmooth = box_smooth(sic2b, width=15)"
   ]
  },
  {
   "cell_type": "code",
   "execution_count": null,
   "id": "06ab2c7d",
   "metadata": {},
   "outputs": [],
   "source": [
    "# Plot the smoothed spectra.  \n",
    "# Note that spectra are scaled to have values near unity.\n",
    "\n",
    "f, ax = plt.subplots()  \n",
    "ax.step(lif1a_bsmooth.spectral_axis, lif1a_bsmooth.flux, label='LiF 1A') \n",
    "ax.step(lif2b_bsmooth.spectral_axis, lif2b_bsmooth.flux, label='LiF 2B')\n",
    "ax.step(sic1a_bsmooth.spectral_axis, sic1a_bsmooth.flux, label='SiC 1A')\n",
    "ax.step(sic2b_bsmooth.spectral_axis, sic2b_bsmooth.flux, label='SiC 2B') \n",
    "ax.legend()\n",
    "ax.set_ylim([0,2])\n",
    "\n",
    "# Everything looks good except for LiF 2B.  We don't use this segment, so won't bother rescaling."
   ]
  },
  {
   "cell_type": "code",
   "execution_count": null,
   "id": "a0ac0562",
   "metadata": {},
   "outputs": [],
   "source": [
    "# Let's see what's happening at long wavelengths.\n",
    "\n",
    "f, ax = plt.subplots()\n",
    "ax.step(lif2a_bsmooth.spectral_axis, lif2a_bsmooth.flux, label='LiF 2A') \n",
    "ax.plot(lif1b_bsmooth.spectral_axis, lif1b_bsmooth.flux, label='LiF 1B') \n",
    "ax.legend()\n",
    "\n",
    "# Again, LiF 2A is fainter, but LiF 1B suffers from the worm."
   ]
  },
  {
   "cell_type": "code",
   "execution_count": null,
   "id": "60fc9959",
   "metadata": {},
   "outputs": [],
   "source": [
    "# We'll scale LiF 2A to match LiF 1B at short wavelengths.\n",
    "\n",
    "# Select a spectral region.\n",
    "\n",
    "region = SpectralRegion(1100*u.AA, 1140*u.AA)\n",
    "sub_lif2a = extract_region(lif2a, region)\n",
    "sub_lif1b = extract_region(lif1b, region)\n",
    "\n",
    "# Compute ratio of their fluxes.\n",
    "\n",
    "scale_lif2a = sub_lif1b.mean()/sub_lif2a.mean()\n",
    "print ('Scale LiF 2A by', scale_lif2a)\n",
    "\n",
    "# Rescale LiF 2A.\n",
    "\n",
    "lif2a *= scale_lif2a\n",
    "lif2a_bsmooth *= scale_lif2a"
   ]
  },
  {
   "cell_type": "code",
   "execution_count": null,
   "id": "f6267b62",
   "metadata": {},
   "outputs": [],
   "source": [
    "# How does this look?\n",
    "\n",
    "f, ax = plt.subplots()\n",
    "ax.step(lif2a_bsmooth.spectral_axis, lif2a_bsmooth.flux, label='LiF 2A') \n",
    "ax.plot(lif1b_bsmooth.spectral_axis, lif1b_bsmooth.flux, label='LiF 1B') \n",
    "ax.legend()"
   ]
  },
  {
   "cell_type": "code",
   "execution_count": null,
   "id": "6a4265d8",
   "metadata": {},
   "outputs": [],
   "source": [
    "# Compare LiF 2A with a STIS spectrum of the same star.\n",
    "\n",
    "filename = 'oe9f1s020_x1d.fits'\n",
    "stis = Spectrum1D.read(filename, format=\"HST/STIS\")\n",
    "stis_bsmooth = box_smooth(stis, width=15)\n",
    "\n",
    "f, ax = plt.subplots()\n",
    "ax.plot(stis_bsmooth.spectral_axis, norm * stis_bsmooth.flux, label='STIS')  \n",
    "ax.step(lif2a_bsmooth.spectral_axis, lif2a_bsmooth.flux, label='LiF 2A') \n",
    "ax.set_xlim([1120,1200])\n",
    "ax.set_ylim([0,2])\n",
    "ax.legend()\n",
    "\n",
    "print ('Target:  ', fits.getval(filename, 'TARGNAME'))\n",
    "print ('Aperture:', fits.getval(filename, 'APERTURE'))\n",
    "\n",
    "# Looks pretty good."
   ]
  },
  {
   "cell_type": "code",
   "execution_count": null,
   "id": "16ee5cd8",
   "metadata": {},
   "outputs": [],
   "source": [
    "# Just to check, is everyone happy with the SiC spectra?\n",
    "\n",
    "f, ax = plt.subplots()  \n",
    "ax.step(lif1a_bsmooth.spectral_axis, lif1a_bsmooth.flux, label='LiF 1A') \n",
    "ax.step(sic2a_bsmooth.spectral_axis, sic2a_bsmooth.flux, label='SiC 2A')\n",
    "ax.step(sic1b_bsmooth.spectral_axis, sic1b_bsmooth.flux, label='SiC 1B')\n",
    "ax.legend()\n",
    "ax.set_xlim([960, 1020])\n",
    "ax.set_ylim([0,2])\n",
    "\n",
    "# Looks good."
   ]
  },
  {
   "cell_type": "code",
   "execution_count": null,
   "id": "d52b048c",
   "metadata": {},
   "outputs": [],
   "source": [
    "# Apply these corrections to the NVO file.\n",
    "\n",
    "filename = 'P103030100000nvo4ttagfcal.fit'\n",
    "f = fits.open(filename)\n",
    "hdr = f[0].header\n",
    "data = f[1].data \n",
    "\n",
    "# Scale LiF 2A \n",
    "g = np.where((data['wave'] > 1090) & (data['wave'] < 1180))\n",
    "data['flux'][g] *= float(scale_lif2a)\n",
    "data['error'][g] *= float(scale_lif2a)\n",
    "\n",
    "hdr['comment'] = ''\n",
    "hdr['comment'] = 'File updated 4 August 2022'\n",
    "hdr['comment'] = 'LiF 2A scaled to match LiF 1B.'\n",
    "\n",
    "f.writeto('level0_P103030100000nvo4ttagfcal_vo.fit', overwrite=True)\n",
    "f.close()"
   ]
  },
  {
   "cell_type": "code",
   "execution_count": null,
   "id": "a95ebb9a",
   "metadata": {},
   "outputs": [],
   "source": [
    "# Compare old and new versions of NVO file.\n",
    "\n",
    "filename = 'P103030100000nvo4ttagfcal.fit'\n",
    "f = fits.open(filename)\n",
    "old = f[1].data \n",
    "\n",
    "filename = 'level0_P103030100000nvo4ttagfcal_vo.fit'\n",
    "f = fits.open(filename)\n",
    "hdr = f[0].header\n",
    "new = f[1].data \n",
    "\n",
    "print (hdr['comment'])\n",
    "\n",
    "f, (ax1, ax2) = plt.subplots(2, 1, sharey=True)  \n",
    "ax1.step(old['wave'], old['flux'], label='OLD FLUX')\n",
    "ax1.step(new['wave'], new['flux'], label='NEW FLUX')\n",
    "ax2.step(old['wave'], old['flux']) \n",
    "ax2.step(new['wave'], new['flux'])\n",
    "ax1.legend()\n",
    "ax1.set_xlim([900, 1050])\n",
    "ax2.set_xlim([1050, 1190])\n",
    "ax1.set_ylim([0,2E-12])"
   ]
  },
  {
   "cell_type": "code",
   "execution_count": null,
   "id": "5bee4687",
   "metadata": {},
   "outputs": [],
   "source": []
  }
 ],
 "metadata": {
  "kernelspec": {
   "display_name": "Python 3 (ipykernel)",
   "language": "python",
   "name": "python3"
  },
  "language_info": {
   "codemirror_mode": {
    "name": "ipython",
    "version": 3
   },
   "file_extension": ".py",
   "mimetype": "text/x-python",
   "name": "python",
   "nbconvert_exporter": "python",
   "pygments_lexer": "ipython3",
   "version": "3.9.12"
  }
 },
 "nbformat": 4,
 "nbformat_minor": 5
}
