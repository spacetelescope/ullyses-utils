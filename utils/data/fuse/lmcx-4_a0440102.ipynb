{
 "cells": [
  {
   "cell_type": "markdown",
   "id": "45e70bc5",
   "metadata": {},
   "source": [
    "# LMCX-4\n",
    "\n",
    "Updating the dataset: A044010200000\n",
    "* Wavelength shift between combined spectrum and individual segments is not an error.  Within an NVO file, segments are shifted to match the guide channel (either LiF 1 or LiF 2) between 1045 and 1070 A.\n",
    "* Comparison of LiF 2A and LiF 1B spectra shows no evidence of a worm between 1090 and 1120 A.  There is a strong worm at the long-wavelength end of the LiF 1B spectrum.  Used LiF 2A to rescale LiF 1B between 1180 and 1190 A.\n",
    "\n",
    "COMMENT File updated 21 Mar 2022 <br>\n",
    "COMMENT 1080-1190 scaled by 1.278242588043213 to correct for worm"
   ]
  },
  {
   "cell_type": "code",
   "execution_count": null,
   "id": "ecdce1ab",
   "metadata": {},
   "outputs": [],
   "source": [
    "%matplotlib inline\n",
    "import matplotlib\n",
    "\n",
    "import numpy as np\n",
    "\n",
    "from astropy import units as u\n",
    "from astropy.io import fits\n",
    "from matplotlib import pyplot as plt\n",
    "from astropy.visualization import quantity_support\n",
    "\n",
    "from specutils import Spectrum1D\n",
    "from specutils.spectra import SpectralRegion\n",
    "from specutils.manipulation import extract_region\n",
    "\n",
    "# Specify plot paramters.\n",
    "quantity_support()  # for getting units on the axes below \n",
    "matplotlib.rcParams['figure.figsize'] = [15, 5]\n",
    "\n",
    "# Normalize all spectra, so fluxes are of order unity.\n",
    "norm = 1E13"
   ]
  },
  {
   "cell_type": "code",
   "execution_count": null,
   "id": "d273d6c5",
   "metadata": {},
   "outputs": [],
   "source": [
    "# Function to convert FITS array into spectrum object.\n",
    "\n",
    "def make_spectrum (specdata):\n",
    "    lamb = specdata['wave'] * u.AA \n",
    "    flux = specdata['flux'] * norm * u.Unit('erg cm-2 s-1 AA-1') \n",
    "    return Spectrum1D(spectral_axis=lamb, flux=flux)"
   ]
  },
  {
   "cell_type": "code",
   "execution_count": null,
   "id": "d8b37b31",
   "metadata": {},
   "outputs": [],
   "source": [
    "# Read header keywords.\n",
    "\n",
    "filename = 'a044010200000all4ttagfcal.fit'\n",
    "f = fits.open(filename)\n",
    "print ('Target:  ', f[0].header['TARGNAME'])\n",
    "print ('Aperture:', f[0].header['APERTURE'])\n",
    "print ('Guider:  ', f[0].header['FESCENT'])\n",
    "print ('CHANL OBSTIME COMBMETH')\n",
    "for i in range(1,9): print (f[i].header['EXTNAME'], f[i].header['OBSTIME'], f[i].header['COMBMETH'])\n",
    "    \n",
    "# Guide channel is LiF 1."
   ]
  },
  {
   "cell_type": "code",
   "execution_count": null,
   "id": "7b30fe13",
   "metadata": {},
   "outputs": [],
   "source": [
    "# Read all eight spectra from FUSE *all* file.\n",
    "\n",
    "lif1a_data = f['1alif'].data \n",
    "lif1b_data = f['1blif'].data\n",
    "lif2b_data = f['2blif'].data\n",
    "lif2a_data = f['2alif'].data\n",
    "sic1a_data = f['1asic'].data\n",
    "sic1b_data = f['1bsic'].data\n",
    "sic2b_data = f['2bsic'].data\n",
    "sic2a_data = f['2asic'].data\n",
    "f.close() "
   ]
  },
  {
   "cell_type": "code",
   "execution_count": null,
   "id": "1bedb1a6",
   "metadata": {},
   "outputs": [],
   "source": [
    "# Convert FITS arrays into spectrum objects.\n",
    "\n",
    "lif1a = make_spectrum (lif1a_data)\n",
    "lif1b = make_spectrum (lif1b_data)\n",
    "lif2a = make_spectrum (lif2a_data)\n",
    "lif2b = make_spectrum (lif2b_data)\n",
    "sic1a = make_spectrum (sic1a_data)\n",
    "sic1b = make_spectrum (sic1b_data)\n",
    "sic2a = make_spectrum (sic2a_data)\n",
    "sic2b = make_spectrum (sic2b_data)"
   ]
  },
  {
   "cell_type": "code",
   "execution_count": null,
   "id": "a3277e6b",
   "metadata": {},
   "outputs": [],
   "source": [
    "# Smooth the spectral arrays.\n",
    "\n",
    "from specutils.manipulation import (box_smooth)\n",
    "\n",
    "lif1a_bsmooth = box_smooth(lif1a, width=15)\n",
    "lif1b_bsmooth = box_smooth(lif1b, width=15)\n",
    "lif2a_bsmooth = box_smooth(lif2a, width=15)\n",
    "lif2b_bsmooth = box_smooth(lif2b, width=15)\n",
    "sic1a_bsmooth = box_smooth(sic1a, width=15)\n",
    "sic1b_bsmooth = box_smooth(sic1b, width=15)\n",
    "sic2a_bsmooth = box_smooth(sic2a, width=15)\n",
    "sic2b_bsmooth = box_smooth(sic2b, width=15)"
   ]
  },
  {
   "cell_type": "code",
   "execution_count": null,
   "id": "75cf8181",
   "metadata": {},
   "outputs": [],
   "source": [
    "# Let's compare the two long-wavelength channels:\n",
    "\n",
    "f, ax = plt.subplots()  \n",
    "ax.step(lif2a_bsmooth.spectral_axis, lif2a_bsmooth.flux, label='LiF2A') \n",
    "ax.step(lif1b_bsmooth.spectral_axis, lif1b_bsmooth.flux, label='LiF1B') \n",
    "ax.legend() \n",
    "\n",
    "# LiF 1B suffers from an obvious worm.  We will rescale it to match LiF 2A."
   ]
  },
  {
   "cell_type": "code",
   "execution_count": null,
   "id": "2b3ec590",
   "metadata": {},
   "outputs": [],
   "source": [
    "# Select a spectral region.\n",
    "\n",
    "region = SpectralRegion(1179*u.AA, 1181*u.AA)\n",
    "sub_lif1b = extract_region(lif1b, region)\n",
    "sub_lif2a = extract_region(lif2a, region)\n",
    "\n",
    "# Compute ratio of their fluxes.\n",
    "\n",
    "scale_lif1b = sub_lif2a.mean()/sub_lif1b.mean()\n",
    "print ('Scale LiF 1b by', scale_lif1b)"
   ]
  },
  {
   "cell_type": "code",
   "execution_count": null,
   "id": "9559733b",
   "metadata": {},
   "outputs": [],
   "source": [
    "# Scale the smoothed spectra.\n",
    "\n",
    "lif1b_bsmooth *= scale_lif1b"
   ]
  },
  {
   "cell_type": "code",
   "execution_count": null,
   "id": "900b5ce8",
   "metadata": {},
   "outputs": [],
   "source": [
    "# Plot rescaled spectrum.\n",
    "\n",
    "f, ax = plt.subplots()  \n",
    "ax.step(lif1b_bsmooth.spectral_axis, lif1b_bsmooth.flux, label='LiF1B') \n",
    "ax.step(lif2a_bsmooth.spectral_axis, lif2a_bsmooth.flux, label='LiF2A') \n",
    "ax.legend()\n",
    "\n",
    "# LiF 1B is now OK at the longest wavelengths."
   ]
  },
  {
   "cell_type": "code",
   "execution_count": null,
   "id": "42407014",
   "metadata": {},
   "outputs": [],
   "source": [
    "# Compare LiF 2A with a STIS spectrum of the same star.\n",
    "\n",
    "filename = 'o49wa5010_x1d.fits'\n",
    "print ('Target:  ', fits.getval(filename, 'TARGNAME'))\n",
    "print ('Aperture:', fits.getval(filename, 'APERTURE'))\n",
    "stis = Spectrum1D.read(filename, format=\"HST/STIS\")\n",
    "stis_bsmooth = box_smooth(stis, width=15)\n",
    "\n",
    "f, ax = plt.subplots()\n",
    "ax.plot(stis_bsmooth.spectral_axis, norm * stis_bsmooth.flux, label='STIS')  \n",
    "ax.step(lif2a_bsmooth.spectral_axis, lif2a_bsmooth.flux, label='LiF 2A') \n",
    "#ax.plot(lif1b_bsmooth.spectral_axis, lif1b_bsmooth.flux, label='LiF 1B') \n",
    "ax.set_xlim([1120,1200])\n",
    "ax.set_ylim([0,10])\n",
    "ax.legend()\n",
    "\n",
    "# The fluxes match, but there is an interesting difference in the shape of the 1175 A feature."
   ]
  },
  {
   "cell_type": "code",
   "execution_count": null,
   "id": "d52b048c",
   "metadata": {},
   "outputs": [],
   "source": [
    "# Apply LiF 1B correction to the NVO file.\n",
    "\n",
    "filename = 'a044010200000nvo4ttagfcal.fit'\n",
    "f = fits.open(filename)\n",
    "hdr = f[0].header\n",
    "data = f[1].data \n",
    "\n",
    "# Scale LiF 1B.\n",
    "g = np.where(data['wave'] > 1180)\n",
    "data['flux'][g] *= float(scale_lif1b)\n",
    "data['error'][g] *= float(scale_lif1b)\n",
    "\n",
    "hdr['comment'] = ''\n",
    "hdr['comment'] = 'File updated 21 Mar 2022'\n",
    "hdr['comment'] = '1080-1190 scaled by ' + str(scale_lif1b) + ' to correct for worm'\n",
    "\n",
    "f.writeto('level0_a044010200000nvo4ttagfcal_vo.fit', overwrite=True)\n",
    "f.close()"
   ]
  },
  {
   "cell_type": "code",
   "execution_count": null,
   "id": "a95ebb9a",
   "metadata": {},
   "outputs": [],
   "source": [
    "# Compare old and new versions of NVO file.\n",
    "\n",
    "filename = 'a044010200000nvo4ttagfcal.fit'\n",
    "f = fits.open(filename)\n",
    "old = f[1].data \n",
    "\n",
    "filename = 'level0_a044010200000nvo4ttagfcal_vo.fit'\n",
    "f = fits.open(filename)\n",
    "hdr = f[0].header\n",
    "new = f[1].data \n",
    "\n",
    "print (hdr['comment'])\n",
    "\n",
    "f, (ax1, ax2) = plt.subplots(2, 1, sharey=True)  \n",
    "ax1.step(new['wave'], new['flux'], label='NEW FLUX')\n",
    "ax1.step(old['wave'], old['flux'], label='OLD FLUX') \n",
    "ax2.step(new['wave'], new['flux'], label='NEW FLUX')\n",
    "ax2.step(old['wave'], old['flux'], label='OLD FLUX') \n",
    "ax1.legend()\n",
    "ax2.legend()\n",
    "ax1.set_xlim([900, 1050])\n",
    "ax2.set_xlim([1050, 1190])\n",
    "ax1.set_ylim([0,1E-12])"
   ]
  },
  {
   "cell_type": "code",
   "execution_count": null,
   "id": "2573c0e1",
   "metadata": {},
   "outputs": [],
   "source": []
  }
 ],
 "metadata": {
  "kernelspec": {
   "display_name": "Python 3 (ipykernel)",
   "language": "python",
   "name": "python3"
  },
  "language_info": {
   "codemirror_mode": {
    "name": "ipython",
    "version": 3
   },
   "file_extension": ".py",
   "mimetype": "text/x-python",
   "name": "python",
   "nbconvert_exporter": "python",
   "pygments_lexer": "ipython3",
   "version": "3.9.12"
  }
 },
 "nbformat": 4,
 "nbformat_minor": 5
}
